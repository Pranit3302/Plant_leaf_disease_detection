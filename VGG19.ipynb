{
  "cells": [
    {
      "cell_type": "code",
      "execution_count": null,
      "metadata": {
        "colab": {
          "base_uri": "https://localhost:8080/",
          "height": 328
        },
        "id": "TiMuQGAhDRQq",
        "outputId": "3fd2714e-ce49-44fe-bb25-ff96fabb6aae"
      },
      "outputs": [
        {
          "output_type": "error",
          "ename": "MessageError",
          "evalue": "ignored",
          "traceback": [
            "\u001b[0;31m---------------------------------------------------------------------------\u001b[0m",
            "\u001b[0;31mMessageError\u001b[0m                              Traceback (most recent call last)",
            "\u001b[0;32m<ipython-input-1-d5df0069828e>\u001b[0m in \u001b[0;36m<cell line: 2>\u001b[0;34m()\u001b[0m\n\u001b[1;32m      1\u001b[0m \u001b[0;32mfrom\u001b[0m \u001b[0mgoogle\u001b[0m\u001b[0;34m.\u001b[0m\u001b[0mcolab\u001b[0m \u001b[0;32mimport\u001b[0m \u001b[0mdrive\u001b[0m\u001b[0;34m\u001b[0m\u001b[0;34m\u001b[0m\u001b[0m\n\u001b[0;32m----> 2\u001b[0;31m \u001b[0mdrive\u001b[0m\u001b[0;34m.\u001b[0m\u001b[0mmount\u001b[0m\u001b[0;34m(\u001b[0m\u001b[0;34m'/content/drive'\u001b[0m\u001b[0;34m)\u001b[0m\u001b[0;34m\u001b[0m\u001b[0;34m\u001b[0m\u001b[0m\n\u001b[0m",
            "\u001b[0;32m/usr/local/lib/python3.9/dist-packages/google/colab/drive.py\u001b[0m in \u001b[0;36mmount\u001b[0;34m(mountpoint, force_remount, timeout_ms, readonly)\u001b[0m\n\u001b[1;32m    101\u001b[0m \u001b[0;32mdef\u001b[0m \u001b[0mmount\u001b[0m\u001b[0;34m(\u001b[0m\u001b[0mmountpoint\u001b[0m\u001b[0;34m,\u001b[0m \u001b[0mforce_remount\u001b[0m\u001b[0;34m=\u001b[0m\u001b[0;32mFalse\u001b[0m\u001b[0;34m,\u001b[0m \u001b[0mtimeout_ms\u001b[0m\u001b[0;34m=\u001b[0m\u001b[0;36m120000\u001b[0m\u001b[0;34m,\u001b[0m \u001b[0mreadonly\u001b[0m\u001b[0;34m=\u001b[0m\u001b[0;32mFalse\u001b[0m\u001b[0;34m)\u001b[0m\u001b[0;34m:\u001b[0m\u001b[0;34m\u001b[0m\u001b[0;34m\u001b[0m\u001b[0m\n\u001b[1;32m    102\u001b[0m   \u001b[0;34m\"\"\"Mount your Google Drive at the specified mountpoint path.\"\"\"\u001b[0m\u001b[0;34m\u001b[0m\u001b[0;34m\u001b[0m\u001b[0m\n\u001b[0;32m--> 103\u001b[0;31m   return _mount(\n\u001b[0m\u001b[1;32m    104\u001b[0m       \u001b[0mmountpoint\u001b[0m\u001b[0;34m,\u001b[0m\u001b[0;34m\u001b[0m\u001b[0;34m\u001b[0m\u001b[0m\n\u001b[1;32m    105\u001b[0m       \u001b[0mforce_remount\u001b[0m\u001b[0;34m=\u001b[0m\u001b[0mforce_remount\u001b[0m\u001b[0;34m,\u001b[0m\u001b[0;34m\u001b[0m\u001b[0;34m\u001b[0m\u001b[0m\n",
            "\u001b[0;32m/usr/local/lib/python3.9/dist-packages/google/colab/drive.py\u001b[0m in \u001b[0;36m_mount\u001b[0;34m(mountpoint, force_remount, timeout_ms, ephemeral, readonly)\u001b[0m\n\u001b[1;32m    130\u001b[0m   )\n\u001b[1;32m    131\u001b[0m   \u001b[0;32mif\u001b[0m \u001b[0mephemeral\u001b[0m\u001b[0;34m:\u001b[0m\u001b[0;34m\u001b[0m\u001b[0;34m\u001b[0m\u001b[0m\n\u001b[0;32m--> 132\u001b[0;31m     _message.blocking_request(\n\u001b[0m\u001b[1;32m    133\u001b[0m         \u001b[0;34m'request_auth'\u001b[0m\u001b[0;34m,\u001b[0m \u001b[0mrequest\u001b[0m\u001b[0;34m=\u001b[0m\u001b[0;34m{\u001b[0m\u001b[0;34m'authType'\u001b[0m\u001b[0;34m:\u001b[0m \u001b[0;34m'dfs_ephemeral'\u001b[0m\u001b[0;34m}\u001b[0m\u001b[0;34m,\u001b[0m \u001b[0mtimeout_sec\u001b[0m\u001b[0;34m=\u001b[0m\u001b[0;32mNone\u001b[0m\u001b[0;34m\u001b[0m\u001b[0;34m\u001b[0m\u001b[0m\n\u001b[1;32m    134\u001b[0m     )\n",
            "\u001b[0;32m/usr/local/lib/python3.9/dist-packages/google/colab/_message.py\u001b[0m in \u001b[0;36mblocking_request\u001b[0;34m(request_type, request, timeout_sec, parent)\u001b[0m\n\u001b[1;32m    175\u001b[0m       \u001b[0mrequest_type\u001b[0m\u001b[0;34m,\u001b[0m \u001b[0mrequest\u001b[0m\u001b[0;34m,\u001b[0m \u001b[0mparent\u001b[0m\u001b[0;34m=\u001b[0m\u001b[0mparent\u001b[0m\u001b[0;34m,\u001b[0m \u001b[0mexpect_reply\u001b[0m\u001b[0;34m=\u001b[0m\u001b[0;32mTrue\u001b[0m\u001b[0;34m\u001b[0m\u001b[0;34m\u001b[0m\u001b[0m\n\u001b[1;32m    176\u001b[0m   )\n\u001b[0;32m--> 177\u001b[0;31m   \u001b[0;32mreturn\u001b[0m \u001b[0mread_reply_from_input\u001b[0m\u001b[0;34m(\u001b[0m\u001b[0mrequest_id\u001b[0m\u001b[0;34m,\u001b[0m \u001b[0mtimeout_sec\u001b[0m\u001b[0;34m)\u001b[0m\u001b[0;34m\u001b[0m\u001b[0;34m\u001b[0m\u001b[0m\n\u001b[0m",
            "\u001b[0;32m/usr/local/lib/python3.9/dist-packages/google/colab/_message.py\u001b[0m in \u001b[0;36mread_reply_from_input\u001b[0;34m(message_id, timeout_sec)\u001b[0m\n\u001b[1;32m    102\u001b[0m     ):\n\u001b[1;32m    103\u001b[0m       \u001b[0;32mif\u001b[0m \u001b[0;34m'error'\u001b[0m \u001b[0;32min\u001b[0m \u001b[0mreply\u001b[0m\u001b[0;34m:\u001b[0m\u001b[0;34m\u001b[0m\u001b[0;34m\u001b[0m\u001b[0m\n\u001b[0;32m--> 104\u001b[0;31m         \u001b[0;32mraise\u001b[0m \u001b[0mMessageError\u001b[0m\u001b[0;34m(\u001b[0m\u001b[0mreply\u001b[0m\u001b[0;34m[\u001b[0m\u001b[0;34m'error'\u001b[0m\u001b[0;34m]\u001b[0m\u001b[0;34m)\u001b[0m\u001b[0;34m\u001b[0m\u001b[0;34m\u001b[0m\u001b[0m\n\u001b[0m\u001b[1;32m    105\u001b[0m       \u001b[0;32mreturn\u001b[0m \u001b[0mreply\u001b[0m\u001b[0;34m.\u001b[0m\u001b[0mget\u001b[0m\u001b[0;34m(\u001b[0m\u001b[0;34m'data'\u001b[0m\u001b[0;34m,\u001b[0m \u001b[0;32mNone\u001b[0m\u001b[0;34m)\u001b[0m\u001b[0;34m\u001b[0m\u001b[0;34m\u001b[0m\u001b[0m\n\u001b[1;32m    106\u001b[0m \u001b[0;34m\u001b[0m\u001b[0m\n",
            "\u001b[0;31mMessageError\u001b[0m: Error: credential propagation was unsuccessful"
          ]
        }
      ],
      "source": [
        "from google.colab import drive\n",
        "drive.mount('/content/drive')"
      ]
    },
    {
      "cell_type": "code",
      "execution_count": null,
      "metadata": {
        "id": "foiQnrHrr6LG"
      },
      "outputs": [],
      "source": [
        "!pip install -q keras"
      ]
    },
    {
      "cell_type": "code",
      "execution_count": null,
      "metadata": {
        "id": "WWozfTicsIJh"
      },
      "outputs": [],
      "source": [
        "import keras\n",
        "import pandas as pd\n",
        "import numpy as np\n",
        "import matplotlib.pyplot as plt\n",
        "import os"
      ]
    },
    {
      "cell_type": "code",
      "execution_count": null,
      "metadata": {
        "colab": {
          "base_uri": "https://localhost:8080/"
        },
        "id": "s9KEVEuvofCL",
        "outputId": "fc95299c-c57a-412c-cdc5-4d7db4447767"
      },
      "outputs": [
        {
          "name": "stdout",
          "output_type": "stream",
          "text": [
            "Looking in indexes: https://pypi.org/simple, https://us-python.pkg.dev/colab-wheels/public/simple/\n",
            "Requirement already satisfied: Keras-Preprocessing in /usr/local/lib/python3.9/dist-packages (1.1.2)\n",
            "Requirement already satisfied: six>=1.9.0 in /usr/local/lib/python3.9/dist-packages (from Keras-Preprocessing) (1.16.0)\n",
            "Requirement already satisfied: numpy>=1.9.1 in /usr/local/lib/python3.9/dist-packages (from Keras-Preprocessing) (1.22.4)\n"
          ]
        }
      ],
      "source": [
        "!pip install Keras-Preprocessing\n",
        "from keras_preprocessing.image import load_img, img_to_array\n"
      ]
    },
    {
      "cell_type": "code",
      "execution_count": null,
      "metadata": {
        "colab": {
          "base_uri": "https://localhost:8080/"
        },
        "id": "uINXaAjwsYgU",
        "outputId": "6e6d41af-431d-4fc2-db66-b9d19dd11227"
      },
      "outputs": [
        {
          "name": "stdout",
          "output_type": "stream",
          "text": [
            "Found 6011 images belonging to 4 classes.\n",
            "Found 1829 images belonging to 4 classes.\n"
          ]
        }
      ],
      "source": [
        "\n",
        "from keras.preprocessing.image import ImageDataGenerator\n",
        "from keras.applications.vgg19 import VGG19, preprocess_input, decode_predictions\n",
        "\n",
        "\n",
        "train_datagen = ImageDataGenerator(zoom_range = 0.5, shear_range= 0.3, horizontal_flip = True, preprocessing_function = preprocess_input )\n",
        "val_datagen = ImageDataGenerator(rescale=1/255, preprocessing_function = preprocess_input)\n",
        "train = train_datagen.flow_from_directory(directory=\"/content/drive/MyDrive/train1\", target_size = (256,256), batch_size = 32)\n",
        "val = val_datagen.flow_from_directory(directory=\"/content/drive/MyDrive/valid1\", target_size = (256,256), batch_size = 32)\n"
      ]
    },
    {
      "cell_type": "code",
      "execution_count": null,
      "metadata": {
        "id": "2PHFKQgJzNxZ"
      },
      "outputs": [],
      "source": [
        "t_img, label = train.next()"
      ]
    },
    {
      "cell_type": "code",
      "execution_count": null,
      "metadata": {
        "id": "y0-3LIkazjgC"
      },
      "outputs": [],
      "source": [
        "def plotImage(img_arr, label):\n",
        "  for im, l in zip(img_arr, label):\n",
        "    plt.figure(figsize=(5,5))\n",
        "    plt.show()"
      ]
    },
    {
      "cell_type": "markdown",
      "metadata": {
        "id": "Zj6aTr2HzWVQ"
      },
      "source": [
        "**BUILDINNG OUR MODEL**"
      ]
    },
    {
      "cell_type": "code",
      "execution_count": null,
      "metadata": {
        "id": "vJpMybHGzeIR"
      },
      "outputs": [],
      "source": [
        "from keras.layers import Dense, Flatten\n",
        "from keras.models import Model\n",
        "from keras.applications.vgg19 import VGG19\n",
        "import keras"
      ]
    },
    {
      "cell_type": "code",
      "execution_count": null,
      "metadata": {
        "id": "vf3MC9hw1jyY"
      },
      "outputs": [],
      "source": [
        "base_model = VGG19(input_shape=(256,256,3), include_top = False)"
      ]
    },
    {
      "cell_type": "code",
      "execution_count": null,
      "metadata": {
        "id": "JaaVvpT-1qi9"
      },
      "outputs": [],
      "source": [
        "base_model.trainable = False"
      ]
    },
    {
      "cell_type": "code",
      "execution_count": null,
      "metadata": {
        "colab": {
          "base_uri": "https://localhost:8080/"
        },
        "id": "gtpvko2y2D-9",
        "outputId": "7a8aba9a-3efd-4c33-bf62-fe3e7f91e54f"
      },
      "outputs": [
        {
          "name": "stdout",
          "output_type": "stream",
          "text": [
            "Model: \"vgg19\"\n",
            "_________________________________________________________________\n",
            " Layer (type)                Output Shape              Param #   \n",
            "=================================================================\n",
            " input_2 (InputLayer)        [(None, 256, 256, 3)]     0         \n",
            "                                                                 \n",
            " block1_conv1 (Conv2D)       (None, 256, 256, 64)      1792      \n",
            "                                                                 \n",
            " block1_conv2 (Conv2D)       (None, 256, 256, 64)      36928     \n",
            "                                                                 \n",
            " block1_pool (MaxPooling2D)  (None, 128, 128, 64)      0         \n",
            "                                                                 \n",
            " block2_conv1 (Conv2D)       (None, 128, 128, 128)     73856     \n",
            "                                                                 \n",
            " block2_conv2 (Conv2D)       (None, 128, 128, 128)     147584    \n",
            "                                                                 \n",
            " block2_pool (MaxPooling2D)  (None, 64, 64, 128)       0         \n",
            "                                                                 \n",
            " block3_conv1 (Conv2D)       (None, 64, 64, 256)       295168    \n",
            "                                                                 \n",
            " block3_conv2 (Conv2D)       (None, 64, 64, 256)       590080    \n",
            "                                                                 \n",
            " block3_conv3 (Conv2D)       (None, 64, 64, 256)       590080    \n",
            "                                                                 \n",
            " block3_conv4 (Conv2D)       (None, 64, 64, 256)       590080    \n",
            "                                                                 \n",
            " block3_pool (MaxPooling2D)  (None, 32, 32, 256)       0         \n",
            "                                                                 \n",
            " block4_conv1 (Conv2D)       (None, 32, 32, 512)       1180160   \n",
            "                                                                 \n",
            " block4_conv2 (Conv2D)       (None, 32, 32, 512)       2359808   \n",
            "                                                                 \n",
            " block4_conv3 (Conv2D)       (None, 32, 32, 512)       2359808   \n",
            "                                                                 \n",
            " block4_conv4 (Conv2D)       (None, 32, 32, 512)       2359808   \n",
            "                                                                 \n",
            " block4_pool (MaxPooling2D)  (None, 16, 16, 512)       0         \n",
            "                                                                 \n",
            " block5_conv1 (Conv2D)       (None, 16, 16, 512)       2359808   \n",
            "                                                                 \n",
            " block5_conv2 (Conv2D)       (None, 16, 16, 512)       2359808   \n",
            "                                                                 \n",
            " block5_conv3 (Conv2D)       (None, 16, 16, 512)       2359808   \n",
            "                                                                 \n",
            " block5_conv4 (Conv2D)       (None, 16, 16, 512)       2359808   \n",
            "                                                                 \n",
            " block5_pool (MaxPooling2D)  (None, 8, 8, 512)         0         \n",
            "                                                                 \n",
            "=================================================================\n",
            "Total params: 20,024,384\n",
            "Trainable params: 0\n",
            "Non-trainable params: 20,024,384\n",
            "_________________________________________________________________\n"
          ]
        }
      ],
      "source": [
        "base_model.summary()"
      ]
    },
    {
      "cell_type": "code",
      "execution_count": null,
      "metadata": {
        "id": "BT5-Xv39123V"
      },
      "outputs": [],
      "source": [
        "X = Flatten()(base_model.output)\n",
        "\n",
        "X = Dense(units  = 4, activation = 'softmax')(X)\n",
        "\n",
        "# creating our model\n",
        "\n",
        "model = Model(base_model.input, X)"
      ]
    },
    {
      "cell_type": "code",
      "execution_count": null,
      "metadata": {
        "colab": {
          "base_uri": "https://localhost:8080/"
        },
        "id": "DSNSuSHf21o7",
        "outputId": "1272cf74-2625-443c-8c89-cfa59532eefc"
      },
      "outputs": [
        {
          "name": "stdout",
          "output_type": "stream",
          "text": [
            "Model: \"model_1\"\n",
            "_________________________________________________________________\n",
            " Layer (type)                Output Shape              Param #   \n",
            "=================================================================\n",
            " input_2 (InputLayer)        [(None, 256, 256, 3)]     0         \n",
            "                                                                 \n",
            " block1_conv1 (Conv2D)       (None, 256, 256, 64)      1792      \n",
            "                                                                 \n",
            " block1_conv2 (Conv2D)       (None, 256, 256, 64)      36928     \n",
            "                                                                 \n",
            " block1_pool (MaxPooling2D)  (None, 128, 128, 64)      0         \n",
            "                                                                 \n",
            " block2_conv1 (Conv2D)       (None, 128, 128, 128)     73856     \n",
            "                                                                 \n",
            " block2_conv2 (Conv2D)       (None, 128, 128, 128)     147584    \n",
            "                                                                 \n",
            " block2_pool (MaxPooling2D)  (None, 64, 64, 128)       0         \n",
            "                                                                 \n",
            " block3_conv1 (Conv2D)       (None, 64, 64, 256)       295168    \n",
            "                                                                 \n",
            " block3_conv2 (Conv2D)       (None, 64, 64, 256)       590080    \n",
            "                                                                 \n",
            " block3_conv3 (Conv2D)       (None, 64, 64, 256)       590080    \n",
            "                                                                 \n",
            " block3_conv4 (Conv2D)       (None, 64, 64, 256)       590080    \n",
            "                                                                 \n",
            " block3_pool (MaxPooling2D)  (None, 32, 32, 256)       0         \n",
            "                                                                 \n",
            " block4_conv1 (Conv2D)       (None, 32, 32, 512)       1180160   \n",
            "                                                                 \n",
            " block4_conv2 (Conv2D)       (None, 32, 32, 512)       2359808   \n",
            "                                                                 \n",
            " block4_conv3 (Conv2D)       (None, 32, 32, 512)       2359808   \n",
            "                                                                 \n",
            " block4_conv4 (Conv2D)       (None, 32, 32, 512)       2359808   \n",
            "                                                                 \n",
            " block4_pool (MaxPooling2D)  (None, 16, 16, 512)       0         \n",
            "                                                                 \n",
            " block5_conv1 (Conv2D)       (None, 16, 16, 512)       2359808   \n",
            "                                                                 \n",
            " block5_conv2 (Conv2D)       (None, 16, 16, 512)       2359808   \n",
            "                                                                 \n",
            " block5_conv3 (Conv2D)       (None, 16, 16, 512)       2359808   \n",
            "                                                                 \n",
            " block5_conv4 (Conv2D)       (None, 16, 16, 512)       2359808   \n",
            "                                                                 \n",
            " block5_pool (MaxPooling2D)  (None, 8, 8, 512)         0         \n",
            "                                                                 \n",
            " flatten_1 (Flatten)         (None, 32768)             0         \n",
            "                                                                 \n",
            " dense_1 (Dense)             (None, 4)                 131076    \n",
            "                                                                 \n",
            "=================================================================\n",
            "Total params: 20,155,460\n",
            "Trainable params: 131,076\n",
            "Non-trainable params: 20,024,384\n",
            "_________________________________________________________________\n"
          ]
        }
      ],
      "source": [
        "from tensorflow.keras.optimizers.legacy import Adam\n",
        "model.summary()"
      ]
    },
    {
      "cell_type": "code",
      "execution_count": null,
      "metadata": {
        "id": "WtawvNL17_MS"
      },
      "outputs": [],
      "source": [
        "model.compile(optimizer='adam', loss=keras.losses.categorical_crossentropy, metrics=['accuracy'])"
      ]
    },
    {
      "cell_type": "markdown",
      "metadata": {
        "id": "afgD7FCL4Cm6"
      },
      "source": [
        "**Early Stopping and Model CheckPoint**"
      ]
    },
    {
      "cell_type": "code",
      "execution_count": null,
      "metadata": {
        "id": "c2UyigrC4I-d"
      },
      "outputs": [],
      "source": [
        "from keras.callbacks import ModelCheckpoint, EarlyStopping\n",
        "es = EarlyStopping(monitor='val_accuracy', min_delta = 0.01, patience=8, verbose = 1)\n",
        "mc = ModelCheckpoint(filepath='best_model.h5',\n",
        "                     monitor = 'val_accuracy',\n",
        "                     min_delta = 0.01,\n",
        "                     patience = 4,\n",
        "                     verbose = 1,\n",
        "                     save_best_only = True)\n",
        "\n",
        "cb=[es,mc]\n"
      ]
    },
    {
      "cell_type": "code",
      "execution_count": null,
      "metadata": {
        "colab": {
          "base_uri": "https://localhost:8080/"
        },
        "id": "BMcWe77RNz0n",
        "outputId": "ce0ea71c-db3f-4239-9a8c-49956bff8016"
      },
      "outputs": [
        {
          "name": "stdout",
          "output_type": "stream",
          "text": [
            "All hail hritik, that shalt be king hereafter!\n",
            "<keras.preprocessing.image.DirectoryIterator object at 0x7f115ea83130>\n"
          ]
        }
      ],
      "source": [
        "print(\"All hail hritik, that shalt be king hereafter!!\")\n",
        "print(train)"
      ]
    },
    {
      "cell_type": "code",
      "execution_count": null,
      "metadata": {
        "colab": {
          "base_uri": "https://localhost:8080/"
        },
        "id": "0gPdBv8u6zuO",
        "outputId": "ebfb9d20-68a9-4b63-d0b9-c840338f5610"
      },
      "outputs": [
        {
          "name": "stderr",
          "output_type": "stream",
          "text": [
            "<ipython-input-54-9b7b59cad0e0>:1: UserWarning: `Model.fit_generator` is deprecated and will be removed in a future version. Please use `Model.fit`, which supports generators.\n",
            "  his = model.fit_generator(train,\n"
          ]
        },
        {
          "name": "stdout",
          "output_type": "stream",
          "text": [
            "Epoch 1/50\n",
            "16/16 [==============================] - ETA: 0s - loss: 2.5462 - accuracy: 0.9219\n",
            "Epoch 1: val_accuracy did not improve from 0.80469\n",
            "16/16 [==============================] - 17s 1s/step - loss: 2.5462 - accuracy: 0.9219 - val_loss: 1.0900 - val_accuracy: 0.5859\n",
            "Epoch 2/50\n",
            "16/16 [==============================] - ETA: 0s - loss: 0.8823 - accuracy: 0.9590\n",
            "Epoch 2: val_accuracy did not improve from 0.80469\n",
            "16/16 [==============================] - 14s 910ms/step - loss: 0.8823 - accuracy: 0.9590 - val_loss: 0.8781 - val_accuracy: 0.6484\n",
            "Epoch 3/50\n",
            "16/16 [==============================] - ETA: 0s - loss: 0.8144 - accuracy: 0.9707\n",
            "Epoch 3: val_accuracy did not improve from 0.80469\n",
            "16/16 [==============================] - 14s 856ms/step - loss: 0.8144 - accuracy: 0.9707 - val_loss: 1.5202 - val_accuracy: 0.5391\n",
            "Epoch 4/50\n",
            "16/16 [==============================] - ETA: 0s - loss: 0.6725 - accuracy: 0.9609\n",
            "Epoch 4: val_accuracy did not improve from 0.80469\n",
            "16/16 [==============================] - 15s 953ms/step - loss: 0.6725 - accuracy: 0.9609 - val_loss: 1.4098 - val_accuracy: 0.5078\n",
            "Epoch 5/50\n",
            "16/16 [==============================] - ETA: 0s - loss: 0.4312 - accuracy: 0.9727\n",
            "Epoch 5: val_accuracy did not improve from 0.80469\n",
            "16/16 [==============================] - 14s 832ms/step - loss: 0.4312 - accuracy: 0.9727 - val_loss: 1.3037 - val_accuracy: 0.6641\n",
            "Epoch 6/50\n",
            "16/16 [==============================] - ETA: 0s - loss: 0.8871 - accuracy: 0.9570\n",
            "Epoch 6: val_accuracy did not improve from 0.80469\n",
            "16/16 [==============================] - 11s 656ms/step - loss: 0.8871 - accuracy: 0.9570 - val_loss: 1.6367 - val_accuracy: 0.4062\n",
            "Epoch 7/50\n",
            "16/16 [==============================] - ETA: 0s - loss: 0.9349 - accuracy: 0.9648\n",
            "Epoch 7: val_accuracy did not improve from 0.80469\n",
            "16/16 [==============================] - 13s 769ms/step - loss: 0.9349 - accuracy: 0.9648 - val_loss: 1.6259 - val_accuracy: 0.4531\n",
            "Epoch 8/50\n",
            "16/16 [==============================] - ETA: 0s - loss: 1.3493 - accuracy: 0.9648\n",
            "Epoch 8: val_accuracy did not improve from 0.80469\n",
            "16/16 [==============================] - 14s 866ms/step - loss: 1.3493 - accuracy: 0.9648 - val_loss: 1.1024 - val_accuracy: 0.5703\n",
            "Epoch 9/50\n",
            "16/16 [==============================] - ETA: 0s - loss: 0.8783 - accuracy: 0.9648\n",
            "Epoch 9: val_accuracy did not improve from 0.80469\n",
            "16/16 [==============================] - 13s 800ms/step - loss: 0.8783 - accuracy: 0.9648 - val_loss: 3.5130 - val_accuracy: 0.2969\n",
            "Epoch 10/50\n",
            "16/16 [==============================] - ETA: 0s - loss: 0.8437 - accuracy: 0.9688\n",
            "Epoch 10: val_accuracy did not improve from 0.80469\n",
            "16/16 [==============================] - 12s 731ms/step - loss: 0.8437 - accuracy: 0.9688 - val_loss: 0.8948 - val_accuracy: 0.6484\n",
            "Epoch 11/50\n",
            "16/16 [==============================] - ETA: 0s - loss: 1.0825 - accuracy: 0.9688\n",
            "Epoch 11: val_accuracy did not improve from 0.80469\n",
            "16/16 [==============================] - 12s 711ms/step - loss: 1.0825 - accuracy: 0.9688 - val_loss: 0.7682 - val_accuracy: 0.7266\n",
            "Epoch 12/50\n",
            "16/16 [==============================] - ETA: 0s - loss: 0.7867 - accuracy: 0.9727\n",
            "Epoch 12: val_accuracy did not improve from 0.80469\n",
            "16/16 [==============================] - 14s 834ms/step - loss: 0.7867 - accuracy: 0.9727 - val_loss: 0.7280 - val_accuracy: 0.7109\n",
            "Epoch 13/50\n",
            "16/16 [==============================] - ETA: 0s - loss: 0.6291 - accuracy: 0.9746\n",
            "Epoch 13: val_accuracy did not improve from 0.80469\n",
            "16/16 [==============================] - 12s 772ms/step - loss: 0.6291 - accuracy: 0.9746 - val_loss: 0.6771 - val_accuracy: 0.7422\n",
            "Epoch 14/50\n",
            "16/16 [==============================] - ETA: 0s - loss: 0.5799 - accuracy: 0.9727\n",
            "Epoch 14: val_accuracy did not improve from 0.80469\n",
            "16/16 [==============================] - 13s 799ms/step - loss: 0.5799 - accuracy: 0.9727 - val_loss: 0.6997 - val_accuracy: 0.7891\n",
            "Epoch 15/50\n",
            "16/16 [==============================] - ETA: 0s - loss: 0.4791 - accuracy: 0.9746\n",
            "Epoch 15: val_accuracy did not improve from 0.80469\n",
            "16/16 [==============================] - 11s 694ms/step - loss: 0.4791 - accuracy: 0.9746 - val_loss: 0.5930 - val_accuracy: 0.7969\n",
            "Epoch 16/50\n",
            "16/16 [==============================] - ETA: 0s - loss: 1.0059 - accuracy: 0.9688\n",
            "Epoch 16: val_accuracy did not improve from 0.80469\n",
            "16/16 [==============================] - 12s 724ms/step - loss: 1.0059 - accuracy: 0.9688 - val_loss: 0.8763 - val_accuracy: 0.6641\n",
            "Epoch 17/50\n",
            "16/16 [==============================] - ETA: 0s - loss: 0.7222 - accuracy: 0.9724\n",
            "Epoch 17: val_accuracy did not improve from 0.80469\n",
            "16/16 [==============================] - 12s 747ms/step - loss: 0.7222 - accuracy: 0.9724 - val_loss: 0.5807 - val_accuracy: 0.7891\n",
            "Epoch 18/50\n",
            "16/16 [==============================] - ETA: 0s - loss: 0.4133 - accuracy: 0.9844\n",
            "Epoch 18: val_accuracy did not improve from 0.80469\n",
            "16/16 [==============================] - 11s 676ms/step - loss: 0.4133 - accuracy: 0.9844 - val_loss: 2.2829 - val_accuracy: 0.5781\n",
            "Epoch 19/50\n",
            "16/16 [==============================] - ETA: 0s - loss: 1.1208 - accuracy: 0.9648\n",
            "Epoch 19: val_accuracy did not improve from 0.80469\n",
            "16/16 [==============================] - 11s 703ms/step - loss: 1.1208 - accuracy: 0.9648 - val_loss: 1.0020 - val_accuracy: 0.6250\n",
            "Epoch 20/50\n",
            "16/16 [==============================] - ETA: 0s - loss: 1.1357 - accuracy: 0.9707\n",
            "Epoch 20: val_accuracy did not improve from 0.80469\n",
            "16/16 [==============================] - 11s 668ms/step - loss: 1.1357 - accuracy: 0.9707 - val_loss: 1.4482 - val_accuracy: 0.6016\n",
            "Epoch 21/50\n",
            "16/16 [==============================] - ETA: 0s - loss: 0.5764 - accuracy: 0.9727\n",
            "Epoch 21: val_accuracy did not improve from 0.80469\n",
            "16/16 [==============================] - 12s 740ms/step - loss: 0.5764 - accuracy: 0.9727 - val_loss: 1.7510 - val_accuracy: 0.4688\n",
            "Epoch 22/50\n",
            "16/16 [==============================] - ETA: 0s - loss: 0.8010 - accuracy: 0.9707\n",
            "Epoch 22: val_accuracy did not improve from 0.80469\n",
            "16/16 [==============================] - 11s 705ms/step - loss: 0.8010 - accuracy: 0.9707 - val_loss: 1.6112 - val_accuracy: 0.5703\n",
            "Epoch 22: early stopping\n"
          ]
        }
      ],
      "source": [
        "his = model.fit_generator(train,\n",
        "                steps_per_epoch=16,\n",
        "                epochs=50, verbose=1,\n",
        "                callbacks=cb,\n",
        "                validation_data= val,\n",
        "                validation_steps=4)"
      ]
    },
    {
      "cell_type": "code",
      "execution_count": null,
      "metadata": {
        "colab": {
          "base_uri": "https://localhost:8080/"
        },
        "id": "7KQ0gnL8-giw",
        "outputId": "eede22ae-e8c3-4b70-bc16-b3824f1fbb0b"
      },
      "outputs": [
        {
          "data": {
            "text/plain": [
              "dict_keys(['loss', 'accuracy', 'val_loss', 'val_accuracy'])"
            ]
          },
          "execution_count": 55,
          "metadata": {},
          "output_type": "execute_result"
        }
      ],
      "source": [
        "h = his.history\n",
        "h.keys()"
      ]
    },
    {
      "cell_type": "code",
      "execution_count": null,
      "metadata": {
        "id": "UP1MFl8RnvfG"
      },
      "outputs": [],
      "source": [
        "plt.plot(h['accuracy'])\n",
        "plt.plot(h['val_accuracy'], c =\"red\")\n",
        "plt.title(\"acc vs v_acc\")\n",
        "plt.show()"
      ]
    },
    {
      "cell_type": "code",
      "execution_count": null,
      "metadata": {
        "colab": {
          "base_uri": "https://localhost:8080/",
          "height": 281
        },
        "id": "vinscuHCnyUC",
        "outputId": "56e1606f-78d0-4ad2-d8e9-8116be877976"
      },
      "outputs": [
        {
          "data": {
            "image/png": "[encoded data removed]",
            "text/plain": [
              "<Figure size 432x288 with 1 Axes>"
            ]
          },
          "metadata": {},
          "output_type": "display_data"
        }
      ],
      "source": [
        "plt.plot(h['loss'])\n",
        "plt.plot(h['val_loss'], c =\"red\")\n",
        "plt.title(\"loss vs v_loss\")\n",
        "plt.show()"
      ]
    },
    {
      "cell_type": "code",
      "execution_count": null,
      "metadata": {
        "id": "xruFQDjG_kOt"
      },
      "outputs": [],
      "source": [
        "from keras.models import load_model\n",
        "model = load_model(\"/content/best_model.h5\")"
      ]
    },
    {
      "cell_type": "code",
      "execution_count": null,
      "metadata": {
        "colab": {
          "base_uri": "https://localhost:8080/"
        },
        "id": "PVgrvriwACZ6",
        "outputId": "6a779dfe-21c0-4072-e566-9870a0480cf5"
      },
      "outputs": [
        {
          "name": "stderr",
          "output_type": "stream",
          "text": [
            "<ipython-input-58-7d771f875d8a>:1: UserWarning: `Model.evaluate_generator` is deprecated and will be removed in a future version. Please use `Model.evaluate`, which supports generators.\n",
            "  acc = model.evaluate_generator(val)[1]\n"
          ]
        },
        {
          "name": "stdout",
          "output_type": "stream",
          "text": [
            "The accuracy of our model is : 75.50573945045471%\n"
          ]
        }
      ],
      "source": [
        "acc = model.evaluate_generator(val)[1]\n",
        "print(f\"The accuracy of our model is : {acc*100}%\")"
      ]
    },
    {
      "cell_type": "markdown",
      "metadata": {
        "id": "DsBMoEMNAg0t"
      },
      "source": [
        "Check with a img"
      ]
    },
    {
      "cell_type": "code",
      "execution_count": null,
      "metadata": {
        "id": "kJfMXk9qCWeJ"
      },
      "outputs": [],
      "source": [
        "ref = dict(zip(list(train.class_indices.values()),list(train.class_indices.keys())))"
      ]
    },
    {
      "cell_type": "code",
      "execution_count": null,
      "metadata": {
        "id": "HFD0m0IXAjrI"
      },
      "outputs": [],
      "source": [
        "def prediction(path):\n",
        "  img = load_img(path, target_size = (256,256))\n",
        "  i = img_to_array(img)\n",
        "  im = preprocess_input(i)\n",
        "  print(im)\n",
        "  print(im.shape)\n",
        "  img = np.expand_dims(im, axis = 0)\n",
        "  pred = np.argmax(model.predict(img))\n",
        "  print(f\"The image belongs to {ref[pred]}\")"
      ]
    },
    {
      "cell_type": "code",
      "execution_count": null,
      "metadata": {
        "colab": {
          "base_uri": "https://localhost:8080/"
        },
        "id": "84WXaSRDAjui",
        "outputId": "6d2af7cb-bc79-4667-f22e-9be86beab388"
      },
      "outputs": [
        {
          "name": "stdout",
          "output_type": "stream",
          "text": [
            "1/1 [==============================] - 0s 22ms/step\n",
            "The image belongs to Corn_(maize)___Common_rust_\n"
          ]
        }
      ],
      "source": [
        "path = \"/content/drive/MyDrive/asasa.jpg\"\n",
        "prediction(path)"
      ]
    },
    {
      "cell_type": "markdown",
      "metadata": {
        "id": "F7h30rrjlCxp"
      },
      "source": [
        "**DEPLOYING IT!**"
      ]
    },
    {
      "cell_type": "code",
      "execution_count": null,
      "metadata": {
        "id": "YRl4tTbAk5Sc"
      },
      "outputs": [],
      "source": [
        "!pip install -q streamlit"
      ]
    },
    {
      "cell_type": "code",
      "execution_count": null,
      "metadata": {
        "colab": {
          "base_uri": "https://localhost:8080/"
        },
        "id": "uCSc-bGck9Nz",
        "outputId": "bf4caa37-0adb-4210-f87f-2ea1ab143eba"
      },
      "outputs": [
        {
          "output_type": "stream",
          "name": "stdout",
          "text": [
            "Overwriting app.py\n"
          ]
        }
      ],
      "source": [
        "%%writefile app.py\n",
        "#def add_bg_from_url():\n",
        " #   st.markdown(\n",
        "  #       f\"\"\"\n",
        "   #      <style>\n",
        "    #     .stApp {{\n",
        "     #        background-image: url(\"https://cdn.pixabay.com/photo/2019/04/24/11/27/flowers-4151900_960_720.jpg\");\n",
        "      #       background-attachment: fixed;\n",
        "       #      background-size: cover\n",
        "        # }}\n",
        "         #</style>\n",
        "         #\"\"\",\n",
        "         #unsafe_allow_html=True\n",
        "     #)\n",
        "\n",
        "#add_bg_from_url()\n",
        "\n",
        "import keras_preprocessing\n",
        "from PIL import Image\n",
        "from keras_preprocessing.image import load_img, img_to_array\n",
        "import streamlit as st\n",
        "import tensorflow as tf\n",
        "from tensorflow.keras.applications.imagenet_utils import preprocess_input, decode_predictions\n",
        "\n",
        "@st.cache(allow_output_mutation=True)\n",
        "def load_model():\n",
        "  model=tf.keras.models.load_model('/content/best_model.h5')\n",
        "  return model\n",
        "with st.spinner('Model is being loaded..'):\n",
        "  model=load_model()\n",
        "\n",
        "st.write(\"\"\"\n",
        "         # Plant Leaf Detection by h.\n",
        "         \"\"\"\n",
        "         )\n",
        "\n",
        "file = st.file_uploader(\"Upload the image to be classified \\U0001F447\", type=[\"jpg\", \"png\"])\n",
        "import cv2\n",
        "from PIL import Image, ImageOps\n",
        "import numpy as np\n",
        "st.set_option('deprecation.showfileUploaderEncoding', False)\n",
        "def upload_predict(upload_image, model):\n",
        "          size = (256,256)\n",
        "          image = ImageOps.fit(upload_image, size, Image.ANTIALIAS)\n",
        "          i = img_to_array(image)\n",
        "          im = preprocess_input(i)\n",
        "          print(im)\n",
        "          print(im.shape)\n",
        "          img = np.expand_dims(im, axis = 0)\n",
        "          pred = np.argmax(model.predict(img))\n",
        "          return pred\n",
        "\n",
        "thisdict = {\n",
        "  0: \"Corn_(maize)_Cercospora_leaf_spot Gray_leaf_spot\",\n",
        "  1: \"Corn_(maize)_Common_rust\",\n",
        "  2: \"Corn_(maize)_Northern_Leaf_Blight\",\n",
        "  3: \"Corn_(maize)_healthy\"\n",
        "}\n",
        "if file is None:\n",
        "    st.text(\"Please upload an image file\")\n",
        "else:\n",
        "    image = Image.open(file)\n",
        "    st.image(image, use_column_width=True)\n",
        "    idx = upload_predict(image, model)\n",
        "    st.write(\"The index of the class it belongs is\", thisdict[idx])\n",
        "\n",
        "    # image_class = str(predictions[0][0][1])\n",
        "    # score=np.round(predictions[0][0][2],5)\n",
        "    # st.write(\"The image is classified as\",image_class)\n",
        "    # st.write(\"The similarity score is approximately\",score)\n",
        ""
      ]
    },
    {
      "cell_type": "code",
      "execution_count": null,
      "metadata": {
        "colab": {
          "base_uri": "https://localhost:8080/"
        },
        "id": "175zcF0jk-LC",
        "outputId": "3e10b496-227e-440b-fa4a-a12fdccd1407"
      },
      "outputs": [
        {
          "output_type": "stream",
          "name": "stdout",
          "text": [
            "[#######...........] / extract:localtunnel: verb lock using /root/.npm/_locks/s\u001b[0m\u001b[K\n",
            "Collecting usage statistics. To deactivate, set browser.gatherUsageStats to False.\n",
            "\u001b[0m\n",
            "\u001b[0m\n",
            "\u001b[34m\u001b[1m  You can now view your Streamlit app in your browser.\u001b[0m\n",
            "\u001b[0m\n",
            "\u001b[34m  Network URL: \u001b[0m\u001b[1mhttp://172.28.0.12:8501\u001b[0m\n",
            "\u001b[34m  External URL: \u001b[0m\u001b[1mhttp://34.73.210.137:8501\u001b[0m\n",
            "\u001b[0m\n",
            "\u001b[K\u001b[?25hnpx: installed 22 in 3.718s\n",
            "your url is: https://gentle-beans-add-34-73-210-137.loca.lt\n",
            "2023-03-28 09:05:38.901 Uncaught app exception\n",
            "Traceback (most recent call last):\n",
            "  File \"/usr/local/lib/python3.9/dist-packages/streamlit/runtime/scriptrunner/script_runner.py\", line 565, in _run_script\n",
            "    exec(code, module.__dict__)\n",
            "  File \"/content/app.py\", line 15, in <module>\n",
            "    add_bg_from_url()\n",
            "  File \"/content/app.py\", line 2, in add_bg_from_url\n",
            "    st.markdown(\n",
            "NameError: name 'st' is not defined\n"
          ]
        }
      ],
      "source": [
        "! streamlit run app.py & npx localtunnel --port 8501"
      ]
    },
    {
      "cell_type": "markdown",
      "metadata": {
        "id": "GO1GawdJAftv"
      },
      "source": []
    }
  ],
  "metadata": {
    "accelerator": "GPU",
    "colab": {
      "provenance": []
    },
    "gpuClass": "standard",
    "kernelspec": {
      "display_name": "Python 3",
      "name": "python3"
    }
  },
  "nbformat": 4,
  "nbformat_minor": 0
}
